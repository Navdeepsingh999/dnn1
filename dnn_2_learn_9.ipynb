{
 "cells": [
  {
   "cell_type": "markdown",
   "metadata": {},
   "source": [
    "# CNN  MNIST database of handwritten digits"
   ]
  },
  {
   "cell_type": "code",
   "execution_count": 3,
   "metadata": {},
   "outputs": [],
   "source": [
    "# mnist (benchmark) dataset\n",
    "\n",
    "# It is a dataset of handwritten images\n",
    "\n",
    "# http://yann.lecun.com/exdb/mnist/\n",
    "\n",
    "\n",
    "# The MNIST database of handwritten digits, available from this page, has a training set of 60,000 examples, \n",
    "# and a test set of 10,000 examples. It is a subset of a larger set available from NIST. The digits have been\n",
    "# size-normalized and centered in a fixed-size image.\n",
    "\n",
    "# It is a good database for people who want to try learning techniques and pattern recognition methods on real-world \n",
    "# data while spending minimal efforts on preprocessing and formatting.'''"
   ]
  },
  {
   "cell_type": "code",
   "execution_count": 4,
   "metadata": {},
   "outputs": [],
   "source": [
    "import numpy as np \n",
    "import keras  \n",
    "from keras.datasets import mnist \n",
    "from keras.models import Model \n",
    "from keras.layers import Dense, Input\n",
    "from keras.layers import Conv2D, MaxPooling2D, Dropout, Flatten \n",
    "from keras import backend as k"
   ]
  },
  {
   "cell_type": "code",
   "execution_count": 5,
   "metadata": {},
   "outputs": [],
   "source": [
    "(x_train, y_train), (x_test, y_test) = mnist.load_data()"
   ]
  },
  {
   "cell_type": "code",
   "execution_count": 6,
   "metadata": {},
   "outputs": [
    {
     "name": "stdout",
     "output_type": "stream",
     "text": [
      "Train: X=(60000, 28, 28), y=(60000,)\n",
      "Test: X=(10000, 28, 28), y=(10000,)\n"
     ]
    },
    {
     "data": {
      "image/png": "[encoded data removed]",
      "text/plain": [
       "<Figure size 432x288 with 9 Axes>"
      ]
     },
     "metadata": {
      "needs_background": "light"
     },
     "output_type": "display_data"
    }
   ],
   "source": [
    "# Display the dataset\n",
    "from matplotlib import pyplot\n",
    "print('Train: X=%s, y=%s' % (x_train.shape, y_train.shape))\n",
    "print('Test: X=%s, y=%s' % (x_test.shape, y_test.shape))\n",
    "# plot first few images\n",
    "\n",
    "for i in range(9):\n",
    "    # define subplot\n",
    "    pyplot.subplot(330 + 1 + i)\n",
    "    # plot raw pixel data\n",
    "    pyplot.imshow(x_train[i], cmap=pyplot.get_cmap('gray'))\n",
    "    \n",
    "# show the figure\n",
    "pyplot.show()"
   ]
  },
  {
   "cell_type": "code",
   "execution_count": 7,
   "metadata": {},
   "outputs": [],
   "source": [
    "img_rows, img_cols=28, 28"
   ]
  },
  {
   "cell_type": "code",
   "execution_count": 8,
   "metadata": {},
   "outputs": [
    {
     "data": {
      "text/plain": [
       "(60000, 28, 28)"
      ]
     },
     "execution_count": 8,
     "metadata": {},
     "output_type": "execute_result"
    }
   ],
   "source": [
    "x_train.shape"
   ]
  },
  {
   "cell_type": "code",
   "execution_count": 9,
   "metadata": {},
   "outputs": [],
   "source": [
    "if k.image_data_format() == 'channels_first': \n",
    "    #reshape dataset to have a single channel          \n",
    "    x_train = x_train.reshape(x_train.shape[0], 1, img_rows, img_cols)        # (60000, 1, 28, 28)\n",
    "    x_test = x_test.reshape(x_test.shape[0], 1, img_rows, img_cols) \n",
    "    inpx = (1, img_rows, img_cols) \n",
    "else:\n",
    "    #reshape dataset to have a single channel\n",
    "    x_train = x_train.reshape(x_train.shape[0], img_rows, img_cols, 1)        # (60000, 28, 28,1)\n",
    "    x_test = x_test.reshape(x_test.shape[0], img_rows, img_cols, 1) \n",
    "    inpx = (img_rows, img_cols, 1)\n"
   ]
  },
  {
   "cell_type": "code",
   "execution_count": 10,
   "metadata": {},
   "outputs": [],
   "source": [
    "#convert from integers to floats\n",
    "x_train = x_train.astype('float32') \n",
    "x_test = x_test.astype('float32') \n",
    "\n",
    "# Normalization. 0 to 1\n",
    "x_train /= 255\n",
    "x_test /= 255\n",
    "\n",
    "# convert class vectors to binary class matrices  OR one hot encode target values\n",
    "y_train = keras.utils.to_categorical(y_train) \n",
    "y_test = keras.utils.to_categorical(y_test)"
   ]
  },
  {
   "cell_type": "code",
   "execution_count": 11,
   "metadata": {},
   "outputs": [],
   "source": [
    "inpx = Input(shape=inpx) \n",
    "layer1 = Conv2D(32, kernel_size=(3, 3), activation='relu')(inpx) \n",
    "layer2 = Conv2D(64, (3, 3), activation='relu')(layer1) \n",
    "layer3 = MaxPooling2D(pool_size=(3, 3))(layer2) \n",
    "# To prevent overfitting \n",
    "layer4 = Dropout(0.5)(layer3)\n",
    " \n",
    "layer5 = Flatten()(layer4) \n",
    "layer6 = Dense(250, activation='sigmoid')(layer5) \n",
    "layer7 = Dense(10, activation='softmax')(layer6)\n",
    "\n",
    "model = Model([inpx], layer7) "
   ]
  },
  {
   "cell_type": "code",
   "execution_count": 12,
   "metadata": {},
   "outputs": [],
   "source": [
    "model.compile(optimizer=keras.optimizers.Adadelta(), \n",
    "              loss=keras.losses.categorical_crossentropy, \n",
    "              metrics=['accuracy'])"
   ]
  },
  {
   "cell_type": "code",
   "execution_count": 13,
   "metadata": {},
   "outputs": [
    {
     "name": "stdout",
     "output_type": "stream",
     "text": [
      "Epoch 1/10\n",
      "120/120 [==============================] - 110s 915ms/step - loss: 2.4346 - accuracy: 0.1022\n",
      "Epoch 2/10\n",
      "120/120 [==============================] - 109s 912ms/step - loss: 2.4191 - accuracy: 0.1022\n",
      "Epoch 3/10\n",
      "120/120 [==============================] - 108s 900ms/step - loss: 2.4043 - accuracy: 0.1022\n",
      "Epoch 4/10\n",
      "120/120 [==============================] - 109s 909ms/step - loss: 2.3899 - accuracy: 0.1022\n",
      "Epoch 5/10\n",
      "120/120 [==============================] - 120s 999ms/step - loss: 2.3762 - accuracy: 0.1022\n",
      "Epoch 6/10\n",
      "120/120 [==============================] - 193s 2s/step - loss: 2.3636 - accuracy: 0.1022\n",
      "Epoch 7/10\n",
      "120/120 [==============================] - 222s 2s/step - loss: 2.3510 - accuracy: 0.1022\n",
      "Epoch 8/10\n",
      "120/120 [==============================] - 213s 2s/step - loss: 2.3393 - accuracy: 0.1022\n",
      "Epoch 9/10\n",
      "120/120 [==============================] - 228s 2s/step - loss: 2.3284 - accuracy: 0.1022\n",
      "Epoch 10/10\n",
      "120/120 [==============================] - 123s 1s/step - loss: 2.3175 - accuracy: 0.1022\n"
     ]
    },
    {
     "data": {
      "text/plain": [
       "<tensorflow.python.keras.callbacks.History at 0x18a5f8df320>"
      ]
     },
     "execution_count": 13,
     "metadata": {},
     "output_type": "execute_result"
    }
   ],
   "source": [
    "model.fit(x_train, y_train, epochs=15, batch_size=500)"
   ]
  },
  {
   "cell_type": "code",
   "execution_count": 14,
   "metadata": {},
   "outputs": [
    {
     "name": "stdout",
     "output_type": "stream",
     "text": [
      "loss= 2.310285806655884\n",
      "accuracy= 0.10100000351667404\n"
     ]
    }
   ],
   "source": [
    "score = model.evaluate(x_test, y_test, verbose=0) \n",
    "print('loss=', score[0]) \n",
    "print('accuracy=', score[1])"
   ]
  },
  {
   "cell_type": "code",
   "execution_count": 15,
   "metadata": {},
   "outputs": [
    {
     "name": "stdout",
     "output_type": "stream",
     "text": [
      "0\n"
     ]
    }
   ],
   "source": [
    "#sinle Value predication in number\n",
    "predictions = model.predict(x_test)\n",
    "print(np.argmax(np.round(predictions[2])))"
   ]
  },
  {
   "cell_type": "code",
   "execution_count": 16,
   "metadata": {},
   "outputs": [
    {
     "data": {
      "image/png": "[encoded data removed]",
      "text/plain": [
       "<Figure size 432x288 with 1 Axes>"
      ]
     },
     "metadata": {
      "needs_background": "light"
     },
     "output_type": "display_data"
    }
   ],
   "source": [
    "#sinle Value predication in graph (plot)\n",
    "import matplotlib.pyplot as plt\n",
    "plt.imshow(x_test[2].reshape(28, 28), cmap = plt.cm.binary)\n",
    "plt.show()"
   ]
  }
 ],
 "metadata": {
  "kernelspec": {
   "display_name": "Python 3",
   "language": "python",
   "name": "python3"
  },
  "language_info": {
   "codemirror_mode": {
    "name": "ipython",
    "version": 3
   },
   "file_extension": ".py",
   "mimetype": "text/x-python",
   "name": "python",
   "nbconvert_exporter": "python",
   "pygments_lexer": "ipython3",
   "version": "3.6.8"
  }
 },
 "nbformat": 4,
 "nbformat_minor": 4
}
